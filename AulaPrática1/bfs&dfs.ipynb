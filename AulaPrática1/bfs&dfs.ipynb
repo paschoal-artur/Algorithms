{
 "cells": [
  {
   "cell_type": "markdown",
   "id": "b49d5912",
   "metadata": {},
   "source": [
    "# Bfs & Dfs "
   ]
  },
  {
   "cell_type": "code",
   "execution_count": 5,
   "id": "b9774d01",
   "metadata": {},
   "outputs": [],
   "source": [
    "grafo = {\n",
    "    'A': [('B', 1), ('C', 4)],\n",
    "    'B': [('D', 1), ('E', 3)],\n",
    "    'C': [('F', 1)],\n",
    "    'D': [('G', 1)],\n",
    "    'E': [],\n",
    "    'F': [('G', 5)],\n",
    "    'G': []\n",
    "}"
   ]
  },
  {
   "cell_type": "code",
   "execution_count": 10,
   "id": "692b47cf",
   "metadata": {},
   "outputs": [
    {
     "name": "stdout",
     "output_type": "stream",
     "text": [
      "\n",
      " Caminho BFS: A -> B -> D -> G\n",
      " Custo: 3\n",
      " Nós Expandidos: 7\n",
      " Ordem de Expansão: A -> B -> C -> D -> E -> F -> G\n",
      "\n",
      " Caminho DFS: A -> B -> D -> G\n",
      " Custo: 3\n",
      " Nós Expandidos: 4\n",
      " Ordem de Expansão: A -> B -> D -> G\n",
      "\n",
      "Resultados:\n",
      " BFS - Caminho: A -> B -> D -> G | Custo: 3 | Nós Expandidos: 7 | Ordem de Expansão: A -> B -> C -> D -> E -> F -> G\n",
      " DFS - Caminho: A -> B -> D -> G | Custo: 3 | Nós Expandidos: 4 | Ordem de Expansão: A -> B -> D -> G\n"
     ]
    }
   ],
   "source": [
    "import collections\n",
    "\n",
    "def BFS(grafo, inicio, objetivo):\n",
    "    visitados = set()\n",
    "    fila = collections.deque([(inicio, [inicio], 0)])  # (nó, caminho, custo)\n",
    "    visitados.add(inicio)\n",
    "\n",
    "    ordem_expansao = []\n",
    "    nos_expandidos = 0\n",
    "\n",
    "    while fila:\n",
    "        vertice, caminho, custo = fila.popleft()\n",
    "        ordem_expansao.append(vertice)\n",
    "        nos_expandidos += 1\n",
    "\n",
    "        if vertice == objetivo:\n",
    "            print(f\"\\n Caminho BFS: {' -> '.join(caminho)}\")\n",
    "            print(f\" Custo: {custo}\")\n",
    "            print(f\" Nós Expandidos: {nos_expandidos}\")\n",
    "            print(f\" Ordem de Expansão: {' -> '.join(ordem_expansao)}\")\n",
    "            return caminho, custo, nos_expandidos, ordem_expansao\n",
    "\n",
    "        for vizinho, peso in grafo.get(vertice, []):\n",
    "            if vizinho not in visitados:\n",
    "                visitados.add(vizinho)\n",
    "                fila.append((vizinho, caminho + [vizinho], custo + peso))\n",
    "\n",
    "    print(\"\\n Caminho não encontrado com BFS.\")\n",
    "    return None, float('inf'), nos_expandidos, ordem_expansao\n",
    "\n",
    "\n",
    "def DFS(grafo, inicio, objetivo):\n",
    "    visitados = set()\n",
    "    pilha = [(inicio, [inicio], 0)]  # (nó, caminho, custo)\n",
    "    visitados.add(inicio)\n",
    "\n",
    "    ordem_expansao = []\n",
    "    nos_expandidos = 0\n",
    "\n",
    "    while pilha:\n",
    "        vertice, caminho, custo = pilha.pop()\n",
    "        ordem_expansao.append(vertice)\n",
    "        nos_expandidos += 1\n",
    "\n",
    "        if vertice == objetivo:\n",
    "            print(f\"\\n Caminho DFS: {' -> '.join(caminho)}\")\n",
    "            print(f\" Custo: {custo}\")\n",
    "            print(f\" Nós Expandidos: {nos_expandidos}\")\n",
    "            print(f\" Ordem de Expansão: {' -> '.join(ordem_expansao)}\")\n",
    "            return caminho, custo, nos_expandidos, ordem_expansao\n",
    "\n",
    "        for vizinho, peso in reversed(grafo.get(vertice, [])):\n",
    "            if vizinho not in visitados:\n",
    "                visitados.add(vizinho)\n",
    "                pilha.append((vizinho, caminho + [vizinho], custo + peso))\n",
    "\n",
    "    print(\"\\n Caminho não encontrado com DFS.\")\n",
    "    return None, float('inf'), nos_expandidos, ordem_expansao\n",
    "\n",
    "inicio = 'A'\n",
    "objetivo = 'G'\n",
    "caminho_bfs, custo_bfs, nos_expandidos_bfs, ordem_expansao_bfs = BFS(grafo, inicio, objetivo)\n",
    "caminho_dfs, custo_dfs, nos_expandidos_dfs, ordem_expansao_dfs = DFS(grafo, inicio, objetivo)\n",
    "print(\"\\nResultados:\")\n",
    "print(f\" BFS - Caminho: {' -> '.join(caminho_bfs)} | Custo: {custo_bfs} | Nós Expandidos: {nos_expandidos_bfs} | Ordem de Expansão: {' -> '.join(ordem_expansao_bfs)}\")\n",
    "print(f\" DFS - Caminho: {' -> '.join(caminho_dfs)} | Custo: {custo_dfs} | Nós Expandidos: {nos_expandidos_dfs} | Ordem de Expansão: {' -> '.join(ordem_expansao_dfs)}\")\n"
   ]
  }
 ],
 "metadata": {
  "kernelspec": {
   "display_name": "Python 3",
   "language": "python",
   "name": "python3"
  },
  "language_info": {
   "codemirror_mode": {
    "name": "ipython",
    "version": 3
   },
   "file_extension": ".py",
   "mimetype": "text/x-python",
   "name": "python",
   "nbconvert_exporter": "python",
   "pygments_lexer": "ipython3",
   "version": "3.12.1"
  }
 },
 "nbformat": 4,
 "nbformat_minor": 5
}
